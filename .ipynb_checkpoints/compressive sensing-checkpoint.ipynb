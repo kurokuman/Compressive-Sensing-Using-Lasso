{
 "cells": [
  {
   "cell_type": "code",
   "execution_count": 1,
   "metadata": {},
   "outputs": [],
   "source": [
    "import numpy as np\n",
    "import matplotlib.pyplot as plt\n",
    "import scipy.fftpack as spfft\n",
    "import cv2\n",
    "\n",
    "from sklearn.linear_model import Lasso\n",
    "from sklearn.metrics import mean_squared_error\n",
    "\n",
    "%matplotlib inline"
   ]
  },
  {
   "cell_type": "code",
   "execution_count": 2,
   "metadata": {},
   "outputs": [],
   "source": [
    "img = cv2.imread(\"img/64_64_4096pixel.bmp\", 0)\n",
    "h,w = img.shape\n",
    "N = h*w"
   ]
  },
  {
   "cell_type": "code",
   "execution_count": 3,
   "metadata": {},
   "outputs": [
    {
     "data": {
      "image/png": "[encoded data removed]",
      "text/plain": [
       "<Figure size 432x288 with 1 Axes>"
      ]
     },
     "metadata": {
      "needs_background": "light"
     },
     "output_type": "display_data"
    }
   ],
   "source": [
    "plt.imshow(img, cmap=\"gray\")\n",
    "plt.show()"
   ]
  },
  {
   "cell_type": "code",
   "execution_count": 4,
   "metadata": {},
   "outputs": [],
   "source": [
    "M = N\n",
    "W = np.random.rand(M, N)\n",
    "W = np.where(W>0.5, 1, 0)"
   ]
  },
  {
   "cell_type": "code",
   "execution_count": 5,
   "metadata": {},
   "outputs": [
    {
     "data": {
      "image/png": "[encoded data removed]",
      "text/plain": [
       "<Figure size 432x288 with 1 Axes>"
      ]
     },
     "metadata": {
      "needs_background": "light"
     },
     "output_type": "display_data"
    }
   ],
   "source": [
    "plt.imshow(W[0].reshape(h,w), cmap=\"gray\")\n",
    "plt.show()"
   ]
  },
  {
   "cell_type": "code",
   "execution_count": 6,
   "metadata": {},
   "outputs": [],
   "source": [
    "Y = np.dot(W, img.reshape(N,1))"
   ]
  },
  {
   "cell_type": "code",
   "execution_count": 7,
   "metadata": {},
   "outputs": [],
   "source": [
    "def idct2(x):\n",
    "    return spfft.idct(spfft.idct(x.T, norm='ortho', axis=0).T, norm='ortho', axis=0)"
   ]
  },
  {
   "cell_type": "code",
   "execution_count": 8,
   "metadata": {},
   "outputs": [],
   "source": [
    "def compressed_sensing(Y, W, alpha):\n",
    "    #ψ作製\n",
    "    #print(np.identity(h).shape)\n",
    "    #print(spfft.idct(np.identity(h)).shape)\n",
    "    psi = np.kron(\n",
    "        spfft.idct(np.identity(h).astype(\"float64\"), norm='ortho', axis=0),\n",
    "        spfft.idct(np.identity(w).astype(\"float64\"), norm='ortho', axis=0)\n",
    "        ).astype(\"float64\")\n",
    "    #print(psi.shape)\n",
    "    # A = Wψ  (M.N) × (N,N) = (M,N)\n",
    "    A = np.dot(W, psi).astype(\"float64\")\n",
    "    #print(A.shape)\n",
    "    # Lasso再構成\n",
    "    #alpha　ノイズが小さいときは小さく，大きいときは大きく\n",
    "    lasso = Lasso(alpha=alpha)\n",
    "    lasso.fit(A, Y)\n",
    "    \n",
    "    #lasso.coef_でlassoの係数を取得（再構成に相当）\n",
    "    Xat = np.array(lasso.coef_).reshape(h, w).T \n",
    "    #print(lasso.coef_.shape)\n",
    "    \n",
    "    #スパース領域(画像を離散コサイン変換した領域)の再構成なので実空間領域に変換\n",
    "    cs_rec = idct2(Xat)\n",
    "    return cs_rec,Xat"
   ]
  },
  {
   "cell_type": "code",
   "execution_count": 9,
   "metadata": {},
   "outputs": [],
   "source": [
    "cs_rec,Xat = compressed_sensing(Y[:], W[:], alpha=0.1)"
   ]
  },
  {
   "cell_type": "code",
   "execution_count": 10,
   "metadata": {},
   "outputs": [
    {
     "data": {
      "image/png": "[encoded data removed]",
      "text/plain": [
       "<Figure size 432x288 with 1 Axes>"
      ]
     },
     "metadata": {
      "needs_background": "light"
     },
     "output_type": "display_data"
    }
   ],
   "source": [
    "plt.imshow(cs_rec, cmap=\"gray\")\n",
    "plt.show()"
   ]
  },
  {
   "cell_type": "code",
   "execution_count": 11,
   "metadata": {},
   "outputs": [
    {
     "data": {
      "image/png": "[encoded data removed]",
      "text/plain": [
       "<Figure size 432x288 with 1 Axes>"
      ]
     },
     "metadata": {
      "needs_background": "light"
     },
     "output_type": "display_data"
    }
   ],
   "source": [
    "plt.imshow(Xat, cmap=\"gray\")\n",
    "plt.show()"
   ]
  },
  {
   "cell_type": "code",
   "execution_count": 12,
   "metadata": {},
   "outputs": [
    {
     "data": {
      "text/plain": [
       "0.04685332009709365"
      ]
     },
     "execution_count": 12,
     "metadata": {},
     "output_type": "execute_result"
    }
   ],
   "source": [
    "mean_squared_error(img, cs_rec)"
   ]
  },
  {
   "cell_type": "code",
   "execution_count": 84,
   "metadata": {},
   "outputs": [],
   "source": [
    "cs_mse = []\n",
    "inv_mse = []\n",
    "for per in range(1,11,1):\n",
    "    per *= 0.1\n",
    "    num = int(N * per)\n",
    "    cs_rec,Xat = compressed_sensing(Y[:num], W[:num], alpha=0.1)\n",
    "    inv_W = np.linalg.pinv(W[:num])\n",
    "    inv_rec = np.dot(inv_W, Y[:num]).reshape(h,w)\n",
    "    \n",
    "    cs_mse.append(mean_squared_error(img, cs_rec))\n",
    "    inv_mse.append(mean_squared_error(img, inv_rec))"
   ]
  },
  {
   "cell_type": "code",
   "execution_count": 86,
   "metadata": {},
   "outputs": [
    {
     "data": {
      "text/plain": [
       "<matplotlib.collections.PathCollection at 0x1fa00156908>"
      ]
     },
     "execution_count": 86,
     "metadata": {},
     "output_type": "execute_result"
    },
    {
     "data": {
      "image/png": "[encoded data removed]",
      "text/plain": [
       "<Figure size 432x288 with 1 Axes>"
      ]
     },
     "metadata": {},
     "output_type": "display_data"
    }
   ],
   "source": [
    "num_of_meas = np.arange(10,110,10)\n",
    "plt.scatter(x=num_of_meas, y=cs_mse)\n",
    "plt.scatter(x=num_of_meas, y=inv_mse)"
   ]
  },
  {
   "cell_type": "code",
   "execution_count": null,
   "metadata": {},
   "outputs": [],
   "source": []
  }
 ],
 "metadata": {
  "kernelspec": {
   "display_name": "Python 3",
   "language": "python",
   "name": "python3"
  },
  "language_info": {
   "codemirror_mode": {
    "name": "ipython",
    "version": 3
   },
   "file_extension": ".py",
   "mimetype": "text/x-python",
   "name": "python",
   "nbconvert_exporter": "python",
   "pygments_lexer": "ipython3",
   "version": "3.7.4"
  }
 },
 "nbformat": 4,
 "nbformat_minor": 2
}
